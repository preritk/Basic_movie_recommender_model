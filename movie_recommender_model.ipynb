{
 "cells": [
  {
   "cell_type": "code",
   "execution_count": 2,
   "metadata": {},
   "outputs": [],
   "source": [
    "##A basic model for movie recommendation .\n",
    "##Here only 6 different movies are taken into account and there are only 5 users .\n",
    "##The ratings are scaled between 1.0 - 5.0 .\n",
    "##It is not necessary that a user has rated all the movies . Some ratings may be missing .\n",
    "##Collaborative filtering approach .\n",
    "##In the dataset where the user didn't rated a movie a sentinel value has been included explicitly (Here 10.0).\n",
    "##Here the movies have two features : Romance and action only.\n",
    "##Here we will predict which movie to watch next out of these 6 movies .\n",
    "import numpy as np\n",
    "import pandas as pd\n",
    "import math\n",
    "import matplotlib.pyplot as plt\n",
    "alpha = 0.01   ##Learning rate\n",
    "lamda = 0.01   ##For regularisation\n",
    "no_of_movies = 6\n",
    "no_of_users = 5\n",
    "epochs = 10000  ##No of iterations for gradient Descent to converge at optimal point."
   ]
  },
  {
   "cell_type": "code",
   "execution_count": 3,
   "metadata": {},
   "outputs": [],
   "source": [
    "def changerfunc(X,Y,hypothesis,Theta):   ##Extension of GradientDescent function.\n",
    "    loss = hypothesis\n",
    "    for i in range(no_of_users):\n",
    "        for j in range(no_of_movies):\n",
    "            if(Y[j][i] < 10.0):\n",
    "                loss[j][i] -= Y[j][i]\n",
    "            else:\n",
    "                loss[j][i] = 0.0\n",
    "    temp1 = alpha*(np.matmul(loss,Theta) + lamda*(X))\n",
    "    temp2 = alpha*(np.matmul(np.transpose(loss),X) + lamda*(Theta))\n",
    "    X = X - temp1         ##updating X\n",
    "    Theta = Theta - temp2   ##updating Theta\n",
    "    return X,Theta"
   ]
  },
  {
   "cell_type": "code",
   "execution_count": 4,
   "metadata": {},
   "outputs": [],
   "source": [
    "def costfunc(X,Y,Theta):\n",
    "    J = 0.0\n",
    "    for i in range(no_of_movies):\n",
    "        for j in range(no_of_users):\n",
    "            hypothesis = np.matmul(X,np.transpose(Theta))  ##hypothesis should be of same size as of Y which will be...\n",
    "                                                           ##...achieved by multiplying in this way .\n",
    "            if Y[i][j]<=5.0:                               ##Removing those entries where there is no rating.\n",
    "                J += ((1/2)*math.pow((hypothesis[i][j] - Y[i][j]),2))    ##This is loss term or least squared error .\n",
    "    ##Now we add regularisation term to avoid overfitting .\n",
    "    ##Firstly adding regularisation term because of X.\n",
    "    for i in range(no_of_movies):\n",
    "        for j in range(2):\n",
    "            J += (lamda/2)*math.pow(X[i][j],2)\n",
    "    ##Now add regularisation term because of Theta matrix.\n",
    "    for i in range(no_of_users):\n",
    "        for j in range(2):\n",
    "            J += (lamda/2)*math.pow(Theta[i][j],2)\n",
    "    ##Here one thing should be noticed that we have taken account of both X and Theta matrix in a same cost function.\n",
    "    ##We can do this.As the loss term in the expression of both X and Theta are same so we keep it once and added...\n",
    "    ##...regularisation term of both matrices.\n",
    "    return float(J)"
   ]
  },
  {
   "cell_type": "code",
   "execution_count": 5,
   "metadata": {},
   "outputs": [],
   "source": [
    "def GradientDesc(X,Theta,Y):\n",
    "    cost = []\n",
    "    iters = []\n",
    "    for i in range(epochs):\n",
    "        J = costfunc(X,Y,Theta)                                ##Function to compute cost.\n",
    "        hypothesis = np.matmul(X, np.transpose(Theta))         ##Our hypothesis in linear regression .\n",
    "        cost.append(J)\n",
    "        iters.append(i)\n",
    "        X,Theta = changerfunc(X,Y,hypothesis,Theta)\n",
    "    plt.plot(iters,cost,'-',color = 'b')\n",
    "    plt.show()\n",
    "    return X,Theta"
   ]
  },
  {
   "cell_type": "code",
   "execution_count": 6,
   "metadata": {},
   "outputs": [],
   "source": [
    "def RandInit():\n",
    "    X = np.random.uniform(low=0.0, high=2.0, size=(6,2) )\n",
    "    Theta = np.random.uniform(low = 0 ,high = 5,size = (5,2))\n",
    "    return X,Theta"
   ]
  },
  {
   "cell_type": "code",
   "execution_count": 8,
   "metadata": {},
   "outputs": [
    {
     "data": {
      "image/png": "[encoded data removed]",
      "text/plain": [
       "<Figure size 432x288 with 1 Axes>"
      ]
     },
     "metadata": {},
     "output_type": "display_data"
    },
    {
     "name": "stdout",
     "output_type": "stream",
     "text": [
      "[[ 0.80420191  1.01067397]\n",
      " [ 0.92171551  1.33338357]\n",
      " [-0.32184499  2.19387091]\n",
      " [ 1.51984105  1.149222  ]\n",
      " [ 1.39080126  0.28800086]\n",
      " [ 0.20720089  2.28890082]]\n",
      "[[1.38577264 1.39526751]\n",
      " [2.37998081 1.06529657]\n",
      " [1.02155376 1.63871068]\n",
      " [1.41536573 1.69278005]\n",
      " [0.06661145 3.34142986]]\n",
      "Prediction is:\n",
      "[[2.52460156 2.99065263 2.47773772 2.84908857 3.43066525]\n",
      " [3.1377149  3.61411415 3.12661184 3.56168965 4.51680447]\n",
      " [2.61503282 1.57113826 3.26633773 3.25821254 7.3092272 ]\n",
      " [3.70962626 4.84145478 3.43584171 4.09651101 3.94128351]\n",
      " [2.32917259 3.61688664 1.89272835 2.45601456 1.05497797]\n",
      " [3.48076228 2.93149233 3.96251307 4.16787069 7.66200351]]\n",
      "Enter your user number(1-5): \n",
      "Finding best suitable movie for you.\n",
      "Out of the given set of movies that you haven't watched the movie you'll love the most is: \n",
      "The Night Listener\n"
     ]
    }
   ],
   "source": [
    "def main():\n",
    "    data = pd.read_csv('Ratings.csv',header = None,usecols = range(0,6)).values  ##Importing data\n",
    "    data = data[1:]\n",
    "    Y = np.delete(data,0,1)   ##Forming the matrix of ratings by users .\n",
    "    for i in range(no_of_movies):\n",
    "        for j in range(no_of_users):\n",
    "            Y[i][j] = float(Y[i][j])\n",
    "    ##In matrix 10.0 denotes a sentinel value which means that user hasn't rated that movie.\n",
    "    X,Theta = RandInit()   ##Here X is a matrix which denotes that what fraction of movie is romance and what part of it\n",
    "                           ##is action. Theta denotes that how much that a user likes romance movie and how much they\n",
    "                           ##...like an action movie.These lie between 0 - 5 .\n",
    "    ##Now X and transpose(Theta) should be equal to Y.\n",
    "    ##Now we will get the X and Theta matrix using supervised learning . We will use linear regression to predict...\n",
    "    ##...the similar movies and X and Theta.\n",
    "    X,Theta = GradientDesc(X,Theta,Y)\n",
    "    print(X)\n",
    "    print(Theta)\n",
    "\n",
    "    print(\"Prediction is:\")\n",
    "    predict = np.matmul(X,np.transpose(Theta))\n",
    "    print(predict)   ##This should be close to Y if your approach is correct.\n",
    "\n",
    "    print(\"Enter your user number(1-5): \")\n",
    "    a = eval(input())\n",
    "    print(\"Finding best suitable movie for you.\")\n",
    "    set_to_watch = []   ##Set of movies which user hasn't watched.\n",
    "    for i in range(no_of_movies):\n",
    "        if(Y[i][a-1]>5.0):\n",
    "            set_to_watch.append(i)\n",
    "    max = 0.0\n",
    "    num = -1\n",
    "    for i in range(len(set_to_watch)):\n",
    "        if(predict[set_to_watch[i]-1][a-1]>max):\n",
    "            max = predict[set_to_watch[i]-1][a-1]\n",
    "            num = set_to_watch[i]\n",
    "        else:\n",
    "            continue\n",
    "    print(\"Out of the given set of movies that you haven't watched the movie you'll love the most is: \")\n",
    "    print(data[i-1][0])\n",
    "main()"
   ]
  },
  {
   "cell_type": "code",
   "execution_count": null,
   "metadata": {},
   "outputs": [],
   "source": []
  }
 ],
 "metadata": {
  "kernelspec": {
   "display_name": "Python 3",
   "language": "python",
   "name": "python3"
  },
  "language_info": {
   "codemirror_mode": {
    "name": "ipython",
    "version": 3
   },
   "file_extension": ".py",
   "mimetype": "text/x-python",
   "name": "python",
   "nbconvert_exporter": "python",
   "pygments_lexer": "ipython3",
   "version": "3.6.4"
  }
 },
 "nbformat": 4,
 "nbformat_minor": 2
}
